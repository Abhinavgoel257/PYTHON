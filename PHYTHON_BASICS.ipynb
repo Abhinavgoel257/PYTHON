{
  "nbformat": 4,
  "nbformat_minor": 0,
  "metadata": {
    "colab": {
      "provenance": []
    },
    "kernelspec": {
      "name": "python3",
      "display_name": "Python 3"
    },
    "language_info": {
      "name": "python"
    }
  },
  "cells": [
    {
      "cell_type": "markdown",
      "source": [
        "ASSIGNMENT 2;\n"
      ],
      "metadata": {
        "id": "JX_ZmZm7O0PH"
      }
    },
    {
      "cell_type": "markdown",
      "source": [
        "THEORY QUESTIONS -:\n",
        "Q1 What is Python, and why is it popular?\n",
        "---\n",
        "Python is a high-level, interpreted programming language known for its simplicity and readability. It's popular due to its vast standard library, active community, and suitability for various domains like web development, data analysis, AI, and scientific computing."
      ],
      "metadata": {
        "id": "QT3c6XNPIa3r"
      }
    },
    {
      "cell_type": "markdown",
      "source": [
        "Q2 What is an interpreter in Python?\n",
        "---\n",
        "\n",
        "An interpreter executes Python code line-by-line, converting it into machine code, making debugging easier but slower compared to compiled languages."
      ],
      "metadata": {
        "id": "g8l0KyYoI6Z7"
      }
    },
    {
      "cell_type": "markdown",
      "source": [
        "Q 3 What are pre-defined keywords in Python?\n",
        "---\n",
        "Keywords are reserved words in Python, such as if, else, for, while, import, True, False, etc. They have predefined meanings and cannot be used as identifiers."
      ],
      "metadata": {
        "id": "y5ejJzx0JIFu"
      }
    },
    {
      "cell_type": "markdown",
      "source": [
        "Q4 Can keywords be used as variable names?\n",
        "---\n",
        "\n",
        "No, keywords cannot be used as variable names because they have special meanings in Python."
      ],
      "metadata": {
        "id": "dfuAJomEJVaf"
      }
    },
    {
      "cell_type": "markdown",
      "source": [
        "Q5 What is mutability in Python?\n",
        "---\n",
        "\n",
        "Mutability refers to the ability of an object to be modified after creation. Lists and dictionaries are mutable, while strings and tuples are immutable."
      ],
      "metadata": {
        "id": "RAI2gw_qJa82"
      }
    },
    {
      "cell_type": "markdown",
      "source": [
        "  Q6 Why are lists mutable, but tuples are immutable?\n",
        "  ---\n",
        "\n",
        "Lists allow modification like adding, removing, or changing elements, which is useful for dynamic data. Tuples are immutable for data consistency and safety, especially when used as dictionary keys."
      ],
      "metadata": {
        "id": "8VR3ZhNlJhqt"
      }
    },
    {
      "cell_type": "markdown",
      "source": [
        "Q 7 What is the difference between == and is operators in Python?\n",
        "---\n",
        "\n",
        "== checks for value equality, whereas is checks for object identity (whether two references point to the same object in memory)."
      ],
      "metadata": {
        "id": "kBgUs-HvJqpu"
      }
    },
    {
      "cell_type": "markdown",
      "source": [
        "Q 8 What are logical operators in Python?\n",
        "---\n",
        "\n",
        "Logical operators include and, or, and not. They are used to combine conditional statements."
      ],
      "metadata": {
        "id": "JclwK8Q8Jy4S"
      }
    },
    {
      "cell_type": "markdown",
      "source": [
        "Q 9  What is type casting in Python?\n",
        "----\n",
        "\n",
        "Type casting is converting one data type into another, e.g., int('123') converts a string to an integer."
      ],
      "metadata": {
        "id": "qlzKzoufJ7tC"
      }
    },
    {
      "cell_type": "markdown",
      "source": [
        "Q  10 What is the difference between implicit and explicit type casting?\n",
        "---\n",
        "\n",
        "Implicit casting is done automatically by Python (e.g., converting an int to a float during division). Explicit casting is done manually using functions like int(), float(), etc."
      ],
      "metadata": {
        "id": "b5Cc3GnhJ-6C"
      }
    },
    {
      "cell_type": "markdown",
      "source": [
        "Q 11 What is the purpose of conditional statements in Python?\n",
        "---\n",
        "\n",
        "Conditional statements (if, elif, else) allow decision-making in code based on conditions."
      ],
      "metadata": {
        "id": "GF70_MPvKEz3"
      }
    },
    {
      "cell_type": "markdown",
      "source": [
        "Q 12 How does the elif statement work?\n",
        "---\n",
        "\n",
        "The elif statement checks additional conditions after an initial if fails. If elif is true, its block executes; otherwise, the process continues."
      ],
      "metadata": {
        "id": "mljcu479KKuI"
      }
    },
    {
      "cell_type": "markdown",
      "source": [
        "Q13 What is the difference between for and while loops?\n",
        "---\n",
        "\n",
        "A for loop iterates over a sequence (e.g., list, range), while a while loop executes as long as a condition is true."
      ],
      "metadata": {
        "id": "j9N2xUtpKO3H"
      }
    },
    {
      "cell_type": "markdown",
      "source": [
        "Q14 Describe a scenario where a while loop is more suitable than a for loop.\n",
        "---\n",
        "\n",
        "A while loop is better for indefinite iteration, like waiting for user input or running until a specific condition is met.\n"
      ],
      "metadata": {
        "id": "tjjzORn4KTlt"
      }
    },
    {
      "cell_type": "markdown",
      "source": [
        "PRACTICAL QUESTIONS :"
      ],
      "metadata": {
        "id": "NefjR4DQKY_c"
      }
    },
    {
      "cell_type": "code",
      "source": [
        "#Q1 Write a Python program to print \"Hello, World!\".\n",
        "\n",
        "\n",
        "print(\"Hello, World!\")"
      ],
      "metadata": {
        "id": "CU71b5_LKg4b"
      },
      "execution_count": null,
      "outputs": []
    },
    {
      "cell_type": "code",
      "source": [
        "#Q2 Write a Python program that displays your name and age.\n",
        "\n",
        "\n",
        "name = \"Abhinav\"\n",
        "age = 20\n",
        "print(f\"My name is {name} and I am {age} years old.\")"
      ],
      "metadata": {
        "id": "DifGJyCDKkSR"
      },
      "execution_count": null,
      "outputs": []
    },
    {
      "cell_type": "code",
      "source": [
        "#Q3 Write code to print all the pre-defined keywords in Python using the keyword library.\n",
        "\n",
        "\n",
        "import keyword\n",
        "print(keyword.kwlist)"
      ],
      "metadata": {
        "id": "cDwn6W6KKr9K"
      },
      "execution_count": null,
      "outputs": []
    },
    {
      "cell_type": "code",
      "source": [
        "#Q4 Write a program that checks if a given word is a Python keyword.\n",
        "\n",
        "\n",
        "import keyword\n",
        "word = input(\"Enter a word: \")\n",
        "print(f\"{word} is a keyword: {keyword.iskeyword(word)}\")"
      ],
      "metadata": {
        "id": "rnXce0TUKyUs"
      },
      "execution_count": null,
      "outputs": []
    },
    {
      "cell_type": "code",
      "source": [
        "#Q5 Create a list and tuple in Python, and demonstrate how attempting to change an element works differently for each.\n",
        "\n",
        "\n",
        "my_list = [1, 2, 3]\n",
        "my_tuple = (1, 2, 3)\n",
        "my_list[0] = 10\n",
        "try:\n",
        "    my_tuple[0] = 10\n",
        "except TypeError:\n",
        "    print(\"Cannot modify a tuple!\")"
      ],
      "metadata": {
        "id": "aPVFoV5iLAWG"
      },
      "execution_count": null,
      "outputs": []
    },
    {
      "cell_type": "code",
      "source": [
        "#Q 6 Write a function to demonstrate the behavior of mutable and immutable arguments.\n",
        "\n",
        "\n",
        "def modify(value):\n",
        "    if isinstance(value, list):\n",
        "        value.append(4)\n",
        "    else:\n",
        "        value += 1"
      ],
      "metadata": {
        "id": "caw9R2JwLJyr"
      },
      "execution_count": null,
      "outputs": []
    },
    {
      "cell_type": "code",
      "source": [
        "#Q 7 Write a program to demonstrate the use of logical operators.\n",
        "\n",
        "\n",
        "x, y = 5, 10\n",
        "print(x > 0 and y > 0)\n",
        "print(x > 0 or y < 0)\n",
        "print(not(x > 0))"
      ],
      "metadata": {
        "id": "N5GKkA3dLWdM"
      },
      "execution_count": null,
      "outputs": []
    },
    {
      "cell_type": "code",
      "source": [
        "# Q 8Write a Python program to convert user input from string to integer, float, and boolean types.\n",
        "\n",
        "\n",
        "user_input = input(\"Enter a value: \")\n",
        "print(f\"Integer: {int(user_input)}, Float: {float(user_input)}, Boolean:"
      ],
      "metadata": {
        "id": "Izgnb9mjLhH3"
      },
      "execution_count": null,
      "outputs": []
    },
    {
      "cell_type": "code",
      "source": [
        "#Q 9Write code to demonstrate type casting with list elements.\n",
        "\n",
        "\n",
        "my_list = ['1', '2', '3']\n",
        "int_list = list(map(int, my_list))\n",
        "print(int_list)"
      ],
      "metadata": {
        "id": "jiGB45GMLpFP"
      },
      "execution_count": null,
      "outputs": []
    },
    {
      "cell_type": "code",
      "source": [
        "# Q10 Write a program that checks if a number is positive, negative, or zero.\n",
        "\n",
        "num = float(input(\"Enter a number: \"))\n",
        "if num > 0:\n",
        "    print(\"The number is positive.\")\n",
        "elif num < 0:\n",
        "    print(\"The number is negative.\")\n",
        "else:\n",
        "    print(\"The number is zero.\")"
      ],
      "metadata": {
        "id": "z96ZwimBMXqy"
      },
      "execution_count": null,
      "outputs": []
    },
    {
      "cell_type": "code",
      "source": [
        "# Q 11 Write a for loop to print numbers from 1 to 10.\n",
        "\n",
        "for i in range(1, 11):\n",
        "    print(i)"
      ],
      "metadata": {
        "id": "L2DbE70lNeq_"
      },
      "execution_count": null,
      "outputs": []
    },
    {
      "cell_type": "code",
      "source": [
        " #Q 12 Write a Python program to find the sum of all even numbers between 1 and 50.\n",
        "\n",
        "even_sum = sum(i for i in range(1, 51) if i % 2 == 0)\n",
        "print(f\"The sum of all even numbers between 1 and 50 is {even_sum}.\")"
      ],
      "metadata": {
        "id": "tpRGGw2FNolM"
      },
      "execution_count": null,
      "outputs": []
    },
    {
      "cell_type": "code",
      "source": [
        " # Q 13 Write a program to reverse a string using a while loop.\n",
        "\n",
        "s = input(\"Enter a string: \")\n",
        "reversed_string = \"\"\n",
        "i = len(s) - 1\n",
        "while i >= 0:\n",
        "    reversed_string += s[i]\n",
        "    i -= 1\n",
        "print(f\"Reversed string: {reversed_string}\")"
      ],
      "metadata": {
        "id": "2hvEHk25NxSa"
      },
      "execution_count": null,
      "outputs": []
    },
    {
      "cell_type": "code",
      "source": [
        "# Q14 Write a code  in a python to find the factorial of a number using input from user;\n",
        "\n",
        "num = int(input(\"Enter a number to find its factorial: \"))\n",
        "\n",
        "\n",
        "factorial = 1\n",
        "\n",
        "\n",
        "if num < 0:\n",
        "    print(\"Factorial does not exist for negative numbers.\")\n",
        "elif num == 0 or num == 1:\n",
        "    print(f\"The factorial of {num} is 1.\")\n",
        "else:\n",
        "\n",
        "    for i in range(1, num + 1):\n",
        "        factorial *= i\n",
        "    print(f\"The factorial of {num} is {factorial}.\")\n"
      ],
      "metadata": {
        "id": "cay5hukjOZQq"
      },
      "execution_count": null,
      "outputs": []
    }
  ]
}